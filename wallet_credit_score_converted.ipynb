{
 "cells": [
  {
   "cell_type": "markdown",
   "id": "5af630b5",
   "metadata": {},
   "source": [
    "# 🧠 DeFi Wallet Credit Scoring - Jupyter Notebook Version\n",
    "This notebook processes DeFi transaction data to assign credit scores to wallet addresses based on their on-chain behavior."
   ]
  },
  {
   "cell_type": "markdown",
   "id": "f6fc1b3a",
   "metadata": {},
   "source": [
    "### 📦 Import Required Libraries"
   ]
  },
  {
   "cell_type": "code",
   "execution_count": null,
   "id": "28be4b52",
   "metadata": {},
   "outputs": [],
   "source": [
    "import json\n",
    "import pandas as pd\n",
    "from tqdm import tqdm"
   ]
  },
  {
   "cell_type": "markdown",
   "id": "cca956f9",
   "metadata": {},
   "source": [
    "### 📥 Load and Clean JSON Data"
   ]
  },
  {
   "cell_type": "code",
   "execution_count": null,
   "id": "08aa2327",
   "metadata": {},
   "outputs": [],
   "source": [
    "\n",
    "# Load JSON (list of transactions)\n",
    "with open(\"user_transactions.json\", \"r\") as f:\n",
    "    data = json.load(f)\n",
    "\n",
    "# Flatten and clean the data\n",
    "cleaned = []\n",
    "for tx in tqdm(data):\n",
    "    try:\n",
    "        cleaned.append({\n",
    "            'wallet': tx['userWallet'],\n",
    "            'action': tx['action'].lower(),\n",
    "            'timestamp': tx['timestamp'],\n",
    "            'amount': float(tx['actionData'].get('amount', 0)) / 1e6  # Assuming USDC, 6 decimals\n",
    "        })\n",
    "    except Exception as e:\n",
    "        print(\"Skipping tx due to error:\", e)\n"
   ]
  },
  {
   "cell_type": "markdown",
   "id": "13ae4337",
   "metadata": {},
   "source": [
    "### 🧾 Create DataFrame"
   ]
  },
  {
   "cell_type": "code",
   "execution_count": null,
   "id": "b23ee100",
   "metadata": {},
   "outputs": [],
   "source": [
    "\n",
    "df = pd.DataFrame(cleaned)\n",
    "df['timestamp'] = pd.to_datetime(df['timestamp'], unit='s')\n"
   ]
  },
  {
   "cell_type": "markdown",
   "id": "b97c22d2",
   "metadata": {},
   "source": [
    "### 📊 Feature Extraction"
   ]
  },
  {
   "cell_type": "code",
   "execution_count": null,
   "id": "fe3e6feb",
   "metadata": {},
   "outputs": [],
   "source": [
    "\n",
    "def extract_features(group):\n",
    "    features = {}\n",
    "    actions = group['action'].value_counts().to_dict()\n",
    "    features['num_transactions'] = len(group)\n",
    "    features['unique_actions'] = group['action'].nunique()\n",
    "    features['num_deposit'] = actions.get('deposit', 0)\n",
    "    features['num_borrow'] = actions.get('borrow', 0)\n",
    "    features['num_repay'] = actions.get('repay', 0)\n",
    "    features['num_liquidation'] = actions.get('liquidationcall', 0)\n",
    "    features['total_deposit'] = group[group['action'] == 'deposit']['amount'].sum()\n",
    "    features['total_borrow'] = group[group['action'] == 'borrow']['amount'].sum()\n",
    "    features['total_repay'] = group[group['action'] == 'repay']['amount'].sum()\n",
    "    features['deposit_to_borrow'] = (features['total_deposit'] / features['total_borrow']\n",
    "                                     if features['total_borrow'] > 0 else 0)\n",
    "    features['repay_to_borrow'] = (features['total_repay'] / features['total_borrow']\n",
    "                                   if features['total_borrow'] > 0 else 0)\n",
    "    features['active_days'] = group['timestamp'].dt.date.nunique()\n",
    "    features['lifetime_days'] = (group['timestamp'].max() - group['timestamp'].min()).days + 1\n",
    "    return pd.Series(features)\n"
   ]
  },
  {
   "cell_type": "markdown",
   "id": "0b3bb776",
   "metadata": {},
   "source": [
    "### 👥 Group by Wallet and Apply Feature Extraction"
   ]
  },
  {
   "cell_type": "code",
   "execution_count": null,
   "id": "161d3b4d",
   "metadata": {},
   "outputs": [],
   "source": [
    "\n",
    "wallet_features = df.groupby('wallet', group_keys=False).apply(extract_features).fillna(0)\n"
   ]
  },
  {
   "cell_type": "markdown",
   "id": "e27a1b5b",
   "metadata": {},
   "source": [
    "### 🧠 Credit Scoring Logic"
   ]
  },
  {
   "cell_type": "code",
   "execution_count": null,
   "id": "6a868147",
   "metadata": {},
   "outputs": [],
   "source": [
    "\n",
    "def score_wallet(row):\n",
    "    score = 600\n",
    "    score += min(row['deposit_to_borrow'] * 50, 100)\n",
    "    score += min(row['repay_to_borrow'] * 100, 100)\n",
    "    score += min(row['active_days'] * 2, 100)\n",
    "    score -= min(row['num_liquidation'] * 50, 200)\n",
    "    return score\n",
    "\n",
    "wallet_features['credit_score'] = wallet_features.apply(score_wallet, axis=1)\n"
   ]
  },
  {
   "cell_type": "markdown",
   "id": "f0457b76",
   "metadata": {},
   "source": [
    "### 💾 Save Credit Scores to CSV"
   ]
  },
  {
   "cell_type": "code",
   "execution_count": null,
   "id": "37de239a",
   "metadata": {},
   "outputs": [],
   "source": [
    "\n",
    "wallet_features[['credit_score']].to_csv(\"wallet_scores.csv\", index=True)\n",
    "print(\"✅ File saved as wallet_scores.csv\")\n"
   ]
  }
 ],
 "metadata": {},
 "nbformat": 4,
 "nbformat_minor": 5
}